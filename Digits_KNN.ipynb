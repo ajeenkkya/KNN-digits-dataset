{
 "cells": [
  {
   "attachments": {
    "scenario1.png": {
     "image/png": "[encoded data removed]"
    },
    "scenario2.png": {
     "image/png": "[encoded data removed]"
    }
   },
   "cell_type": "markdown",
   "metadata": {},
   "source": [
    "# K Nearest Neighbours(KNN) Algorithm\n",
    "To explain the algorithm let's take an example:\n",
    "![scenario1.png](attachment:scenario1.png)\n",
    "In the above picture red circle and green squares are the two classes of data which is given and we have to insert a new element in it so how do we decide the class of the blue star?\n",
    "A simple approach is to take measure the distance of that star from other elements in the data but how many should we consider? That question is answered by taking the value of K, this value can be taken by trial and error and then finalize whichever suits best. So, for this example we take K=3 so the blue star will consider it's 3 nearest neighbour and decide its class as shown below.\n",
    "![scenario2.png](attachment:scenario2.png)\n",
    "\n",
    "Below is given the code to apply the following using scikit learn libraries and also using the digits dataset which has digits from 0-9 written by almost 1800 different people. Here, data is actually an 8x8 matrix of image but is transformed into list of length 64. Target variable is just the number which the user wrote."
   ]
  },
  {
   "cell_type": "code",
   "execution_count": 58,
   "metadata": {},
   "outputs": [
    {
     "name": "stdout",
     "output_type": "stream",
     "text": [
      "[0 1 2 3 4 5 6 7 8 9]\n",
      "[0 1 2 3 4 5 6 7 8 9]\n"
     ]
    }
   ],
   "source": [
    "import numpy as np\n",
    "import pandas as pd\n",
    "from sklearn.datasets import load_digits\n",
    "from sklearn.neighbors import KNeighborsClassifier\n",
    "import matplotlib.pyplot as plt\n",
    "\n",
    "#loading the dataset into a variable\n",
    "digits = load_digits()\n",
    "\n",
    "#convering the feature and target variables into numpy array\n",
    "X = np.array(digits.data)\n",
    "Y = np.array(digits.target)\n",
    "\n",
    "#sorting the data and target according to class like first all class0 the class1 then class2 and so on\n",
    "inds = Y.argsort()\n",
    "Xs = X[inds]\n",
    "Ys = np.sort(Y)\n",
    "\n",
    "#5th index of every class\n",
    "test_idx = [4, 182, 364, 541, 724, 905, 1087, 1268, 1447, 1621]\n",
    "\n",
    "#Defining the training and testing variables\n",
    "X_train = np.delete(Xs, test_idx, axis=0)\n",
    "y_train = np.delete(Ys, test_idx)\n",
    "X_test = Xs[test_idx]\n",
    "y_test = Ys[test_idx]\n",
    "\n",
    "#defining the model\n",
    "clf = KNeighborsClassifier(n_neighbors=10)\n",
    "\n",
    "#training the model\n",
    "clf.fit(X_train, y_train)\n",
    "\n",
    "#printing the given target variables \n",
    "print(y_test)\n",
    "#printing the predicted target variables\n",
    "print(clf.predict(X_test))"
   ]
  }
 ],
 "metadata": {
  "kernelspec": {
   "display_name": "Python 3",
   "language": "python",
   "name": "python3"
  },
  "language_info": {
   "codemirror_mode": {
    "name": "ipython",
    "version": 3
   },
   "file_extension": ".py",
   "mimetype": "text/x-python",
   "name": "python",
   "nbconvert_exporter": "python",
   "pygments_lexer": "ipython3",
   "version": "3.6.6"
  }
 },
 "nbformat": 4,
 "nbformat_minor": 2
}
